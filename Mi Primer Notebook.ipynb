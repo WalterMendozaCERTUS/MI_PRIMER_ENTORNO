{
 "cells": [
  {
   "cell_type": "markdown",
   "id": "5e8204e4",
   "metadata": {},
   "source": [
    "# Mi primer Notebook\n",
    "\n",
    "Author: Walter Mendoza\n",
    "\n",
    "* Un elemento en una lista no ordenada\n",
    "* Otro elemento en una lista\n",
    "\n",
    "1. Elemento en una lista enumerada u ordenada.\n",
    "2. Otro elemento"
   ]
  },
  {
   "cell_type": "code",
   "execution_count": 1,
   "id": "e119cc28",
   "metadata": {},
   "outputs": [
    {
     "name": "stdout",
     "output_type": "stream",
     "text": [
      "Hello World\n"
     ]
    }
   ],
   "source": [
    "print (\"Hello World\")"
   ]
  }
 ],
 "metadata": {
  "kernelspec": {
   "display_name": "Python 3 (ipykernel)",
   "language": "python",
   "name": "python3"
  },
  "language_info": {
   "codemirror_mode": {
    "name": "ipython",
    "version": 3
   },
   "file_extension": ".py",
   "mimetype": "text/x-python",
   "name": "python",
   "nbconvert_exporter": "python",
   "pygments_lexer": "ipython3",
   "version": "3.8.6"
  }
 },
 "nbformat": 4,
 "nbformat_minor": 5
}
